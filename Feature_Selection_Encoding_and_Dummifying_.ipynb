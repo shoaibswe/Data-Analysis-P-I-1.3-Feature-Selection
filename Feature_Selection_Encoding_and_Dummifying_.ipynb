{
  "nbformat": 4,
  "nbformat_minor": 0,
  "metadata": {
    "colab": {
      "name": "Feature Selection Encoding and Dummifying .ipynb",
      "provenance": [],
      "collapsed_sections": [],
      "authorship_tag": "ABX9TyPcHezJJYtse57vM0zf9fuG",
      "include_colab_link": true
    },
    "kernelspec": {
      "name": "python3",
      "display_name": "Python 3"
    }
  },
  "cells": [
    {
      "cell_type": "markdown",
      "metadata": {
        "id": "view-in-github",
        "colab_type": "text"
      },
      "source": [
        "<a href=\"https://colab.research.google.com/github/shoaibswe/Data-Analysis-P-I-1.3-Feature-Selection/blob/main/Feature_Selection_Encoding_and_Dummifying_.ipynb\" target=\"_parent\"><img src=\"https://colab.research.google.com/assets/colab-badge.svg\" alt=\"Open In Colab\"/></a>"
      ]
    },
    {
      "cell_type": "code",
      "metadata": {
        "colab": {
          "base_uri": "https://localhost:8080/"
        },
        "id": "jmdRldh-WybY",
        "outputId": "e11ec907-9089-43ba-a236-b9fbe9c0a45f"
      },
      "source": [
        "import pandas as pd\r\n",
        "from google.colab import drive\r\n",
        "drive.mount('/content/drive/')\r\n",
        "url=('/content/drive/MyDrive/DAP/P1/processed_data.csv')\r\n",
        "td = pd.read_csv(url)\r\n"
      ],
      "execution_count": 55,
      "outputs": [
        {
          "output_type": "stream",
          "text": [
            "Drive already mounted at /content/drive/; to attempt to forcibly remount, call drive.mount(\"/content/drive/\", force_remount=True).\n"
          ],
          "name": "stdout"
        }
      ]
    },
    {
      "cell_type": "code",
      "metadata": {
        "id": "2Kaj4fwHW0Mw"
      },
      "source": [
        "# lets gain info first\r\n",
        "from sklearn.feature_selection import mutual_info_classif"
      ],
      "execution_count": 56,
      "outputs": []
    },
    {
      "cell_type": "code",
      "metadata": {
        "colab": {
          "base_uri": "https://localhost:8080/"
        },
        "id": "6fFfMi1VW1Rz",
        "outputId": "238a2ac4-af90-49d7-d9bd-ea9f120f84cb"
      },
      "source": [
        "#Keeping out independent veriable\r\n",
        "IndependentFeature = td['Price']\r\n",
        "IndependentFeature.head(2)"
      ],
      "execution_count": 57,
      "outputs": [
        {
          "output_type": "execute_result",
          "data": {
            "text/plain": [
              "0    3897\n",
              "1    7662\n",
              "Name: Price, dtype: int64"
            ]
          },
          "metadata": {
            "tags": []
          },
          "execution_count": 57
        }
      ]
    },
    {
      "cell_type": "code",
      "metadata": {
        "colab": {
          "base_uri": "https://localhost:8080/",
          "height": 147
        },
        "id": "V2fppeOsW8Jv",
        "outputId": "7a64988a-f7e3-4985-dd83-8c472dad57e5"
      },
      "source": [
        "## We need our dependent and independent data\r\n",
        "DependentFeatures = td.drop('Price',axis=1) #coz its not dependent,and its important\r\n",
        "DependentFeatures.head(1)"
      ],
      "execution_count": 59,
      "outputs": [
        {
          "output_type": "execute_result",
          "data": {
            "text/html": [
              "<div>\n",
              "<style scoped>\n",
              "    .dataframe tbody tr th:only-of-type {\n",
              "        vertical-align: middle;\n",
              "    }\n",
              "\n",
              "    .dataframe tbody tr th {\n",
              "        vertical-align: top;\n",
              "    }\n",
              "\n",
              "    .dataframe thead th {\n",
              "        text-align: right;\n",
              "    }\n",
              "</style>\n",
              "<table border=\"1\" class=\"dataframe\">\n",
              "  <thead>\n",
              "    <tr style=\"text-align: right;\">\n",
              "      <th></th>\n",
              "      <th>Unnamed: 0</th>\n",
              "      <th>Airline</th>\n",
              "      <th>Date_of_Journey</th>\n",
              "      <th>Source</th>\n",
              "      <th>Destination</th>\n",
              "      <th>Route</th>\n",
              "      <th>Total_Stops</th>\n",
              "      <th>Additional_Info</th>\n",
              "      <th>journey_year</th>\n",
              "      <th>journey_month</th>\n",
              "      <th>journey_day</th>\n",
              "      <th>Dep_Time_hour</th>\n",
              "      <th>Dep_Time_minute</th>\n",
              "      <th>Arrival_Time_hour</th>\n",
              "      <th>Arrival_Time_minute</th>\n",
              "      <th>duration_hr</th>\n",
              "    </tr>\n",
              "  </thead>\n",
              "  <tbody>\n",
              "    <tr>\n",
              "      <th>0</th>\n",
              "      <td>0</td>\n",
              "      <td>IndiGo</td>\n",
              "      <td>2019-03-24</td>\n",
              "      <td>Banglore</td>\n",
              "      <td>New Delhi</td>\n",
              "      <td>BLR → DEL</td>\n",
              "      <td>non-stop</td>\n",
              "      <td>No info</td>\n",
              "      <td>2019</td>\n",
              "      <td>3</td>\n",
              "      <td>24</td>\n",
              "      <td>22</td>\n",
              "      <td>20</td>\n",
              "      <td>1</td>\n",
              "      <td>10</td>\n",
              "      <td>2</td>\n",
              "    </tr>\n",
              "  </tbody>\n",
              "</table>\n",
              "</div>"
            ],
            "text/plain": [
              "   Unnamed: 0 Airline  ... Arrival_Time_minute duration_hr\n",
              "0           0  IndiGo  ...                  10           2\n",
              "\n",
              "[1 rows x 16 columns]"
            ]
          },
          "metadata": {
            "tags": []
          },
          "execution_count": 59
        }
      ]
    },
    {
      "cell_type": "code",
      "metadata": {
        "id": "um7SlTN9e_a6"
      },
      "source": [
        "td.drop('Unnamed: 0',axis=1,inplace=True)"
      ],
      "execution_count": 60,
      "outputs": []
    },
    {
      "cell_type": "code",
      "metadata": {
        "id": "x3qhPt8HXQSi"
      },
      "source": [
        "\r\n",
        "td['Route1']=td['Route'].str.split('→').str[0]\r\n",
        "td['Route2']=td['Route'].str.split('→').str[1]\r\n",
        "td['Route3']=td['Route'].str.split('→').str[2]\r\n",
        "td['Route4']=td['Route'].str.split('→').str[3]\r\n",
        "td['Route5']=td['Route'].str.split('→').str[4]\r\n",
        "\r\n",
        "td.drop('Route',axis=1,inplace=True)\r\n"
      ],
      "execution_count": 61,
      "outputs": []
    },
    {
      "cell_type": "code",
      "metadata": {
        "colab": {
          "base_uri": "https://localhost:8080/",
          "height": 97
        },
        "id": "GDq0vnx2XVFw",
        "outputId": "bb33cb2f-3e33-44bc-b1ac-cedccede3cba"
      },
      "source": [
        "td.head(1)"
      ],
      "execution_count": 62,
      "outputs": [
        {
          "output_type": "execute_result",
          "data": {
            "text/html": [
              "<div>\n",
              "<style scoped>\n",
              "    .dataframe tbody tr th:only-of-type {\n",
              "        vertical-align: middle;\n",
              "    }\n",
              "\n",
              "    .dataframe tbody tr th {\n",
              "        vertical-align: top;\n",
              "    }\n",
              "\n",
              "    .dataframe thead th {\n",
              "        text-align: right;\n",
              "    }\n",
              "</style>\n",
              "<table border=\"1\" class=\"dataframe\">\n",
              "  <thead>\n",
              "    <tr style=\"text-align: right;\">\n",
              "      <th></th>\n",
              "      <th>Airline</th>\n",
              "      <th>Date_of_Journey</th>\n",
              "      <th>Source</th>\n",
              "      <th>Destination</th>\n",
              "      <th>Total_Stops</th>\n",
              "      <th>Additional_Info</th>\n",
              "      <th>Price</th>\n",
              "      <th>journey_year</th>\n",
              "      <th>journey_month</th>\n",
              "      <th>journey_day</th>\n",
              "      <th>Dep_Time_hour</th>\n",
              "      <th>Dep_Time_minute</th>\n",
              "      <th>Arrival_Time_hour</th>\n",
              "      <th>Arrival_Time_minute</th>\n",
              "      <th>duration_hr</th>\n",
              "      <th>Route1</th>\n",
              "      <th>Route2</th>\n",
              "      <th>Route3</th>\n",
              "      <th>Route4</th>\n",
              "      <th>Route5</th>\n",
              "    </tr>\n",
              "  </thead>\n",
              "  <tbody>\n",
              "    <tr>\n",
              "      <th>0</th>\n",
              "      <td>IndiGo</td>\n",
              "      <td>2019-03-24</td>\n",
              "      <td>Banglore</td>\n",
              "      <td>New Delhi</td>\n",
              "      <td>non-stop</td>\n",
              "      <td>No info</td>\n",
              "      <td>3897</td>\n",
              "      <td>2019</td>\n",
              "      <td>3</td>\n",
              "      <td>24</td>\n",
              "      <td>22</td>\n",
              "      <td>20</td>\n",
              "      <td>1</td>\n",
              "      <td>10</td>\n",
              "      <td>2</td>\n",
              "      <td>BLR</td>\n",
              "      <td>DEL</td>\n",
              "      <td>NaN</td>\n",
              "      <td>NaN</td>\n",
              "      <td>NaN</td>\n",
              "    </tr>\n",
              "  </tbody>\n",
              "</table>\n",
              "</div>"
            ],
            "text/plain": [
              "  Airline Date_of_Journey    Source Destination  ... Route2 Route3  Route4  Route5\n",
              "0  IndiGo      2019-03-24  Banglore   New Delhi  ...    DEL    NaN     NaN     NaN\n",
              "\n",
              "[1 rows x 20 columns]"
            ]
          },
          "metadata": {
            "tags": []
          },
          "execution_count": 62
        }
      ]
    },
    {
      "cell_type": "code",
      "metadata": {
        "id": "vtMjDcmQcUA5"
      },
      "source": [
        "#lets dummify the destination and Airline a I need to keep the extracted feature\r\n",
        "Destination = pd.get_dummies(td['Destination'],drop_first=True)\r\n",
        "\r\n",
        "td['Cochin']=Destination['Cochin']\r\n",
        "td['Hyderabad']=Destination['Hyderabad']\r\n",
        "td['New Delhi']=Destination['New Delhi']"
      ],
      "execution_count": 63,
      "outputs": []
    },
    {
      "cell_type": "code",
      "metadata": {
        "id": "VlOSZxenclN1"
      },
      "source": [
        "Airline = pd.get_dummies(td['Airline'],drop_first=True)\r\n",
        "\r\n",
        "td['Air India']=Airline['Air India']\r\n",
        "td['GoAir']=Airline['GoAir']\r\n",
        "td['IndiGo']=Airline['IndiGo']\r\n",
        "td['Jet Airways']=Airline['Jet Airways']\r\n",
        "td['Jet Airways Business']=Airline['Jet Airways Business']\r\n",
        "td['Multiple carriers']=Airline['Multiple carriers']\r\n",
        "td['Multiple carriers Premium economy']=Airline['Multiple carriers Premium economy']\r\n",
        "td['SpiceJet']=Airline['SpiceJet']\r\n",
        "td['Vistara']=Airline['Vistara']\r\n",
        "td['Vistara Premium economy']=Airline['Vistara Premium economy']\r\n",
        "td['IndiGo']=Airline['IndiGo']\r\n",
        "\r\n",
        "td.drop('Airline',axis=1,inplace=True) "
      ],
      "execution_count": 64,
      "outputs": []
    },
    {
      "cell_type": "code",
      "metadata": {
        "id": "2UBMYA2WXBJk"
      },
      "source": [
        "# ROUTE IS STILL CATEGORICAL, lets encode\r\n",
        "from sklearn.preprocessing import LabelEncoder\r\n",
        "encode = LabelEncoder()"
      ],
      "execution_count": 65,
      "outputs": []
    },
    {
      "cell_type": "code",
      "metadata": {
        "id": "0DLuhTQ5XJvT",
        "colab": {
          "base_uri": "https://localhost:8080/",
          "height": 421
        },
        "outputId": "53f4a65b-b114-43f3-db87-dd78827f0dc7"
      },
      "source": [
        "for i in ['Route1',\t'Route2',\t'Route3',\t'Route4',\t'Route5',]:\r\n",
        "  td[i]=encode.fit_transform(td[i])"
      ],
      "execution_count": 66,
      "outputs": [
        {
          "output_type": "error",
          "ename": "TypeError",
          "evalue": "ignored",
          "traceback": [
            "\u001b[0;31m---------------------------------------------------------------------------\u001b[0m",
            "\u001b[0;31mTypeError\u001b[0m                                 Traceback (most recent call last)",
            "\u001b[0;32m/usr/local/lib/python3.7/dist-packages/sklearn/preprocessing/_label.py\u001b[0m in \u001b[0;36m_encode\u001b[0;34m(values, uniques, encode, check_unknown)\u001b[0m\n\u001b[1;32m    111\u001b[0m         \u001b[0;32mtry\u001b[0m\u001b[0;34m:\u001b[0m\u001b[0;34m\u001b[0m\u001b[0;34m\u001b[0m\u001b[0m\n\u001b[0;32m--> 112\u001b[0;31m             \u001b[0mres\u001b[0m \u001b[0;34m=\u001b[0m \u001b[0m_encode_python\u001b[0m\u001b[0;34m(\u001b[0m\u001b[0mvalues\u001b[0m\u001b[0;34m,\u001b[0m \u001b[0muniques\u001b[0m\u001b[0;34m,\u001b[0m \u001b[0mencode\u001b[0m\u001b[0;34m)\u001b[0m\u001b[0;34m\u001b[0m\u001b[0;34m\u001b[0m\u001b[0m\n\u001b[0m\u001b[1;32m    113\u001b[0m         \u001b[0;32mexcept\u001b[0m \u001b[0mTypeError\u001b[0m\u001b[0;34m:\u001b[0m\u001b[0;34m\u001b[0m\u001b[0;34m\u001b[0m\u001b[0m\n",
            "\u001b[0;32m/usr/local/lib/python3.7/dist-packages/sklearn/preprocessing/_label.py\u001b[0m in \u001b[0;36m_encode_python\u001b[0;34m(values, uniques, encode)\u001b[0m\n\u001b[1;32m     59\u001b[0m     \u001b[0;32mif\u001b[0m \u001b[0muniques\u001b[0m \u001b[0;32mis\u001b[0m \u001b[0;32mNone\u001b[0m\u001b[0;34m:\u001b[0m\u001b[0;34m\u001b[0m\u001b[0;34m\u001b[0m\u001b[0m\n\u001b[0;32m---> 60\u001b[0;31m         \u001b[0muniques\u001b[0m \u001b[0;34m=\u001b[0m \u001b[0msorted\u001b[0m\u001b[0;34m(\u001b[0m\u001b[0mset\u001b[0m\u001b[0;34m(\u001b[0m\u001b[0mvalues\u001b[0m\u001b[0;34m)\u001b[0m\u001b[0;34m)\u001b[0m\u001b[0;34m\u001b[0m\u001b[0;34m\u001b[0m\u001b[0m\n\u001b[0m\u001b[1;32m     61\u001b[0m         \u001b[0muniques\u001b[0m \u001b[0;34m=\u001b[0m \u001b[0mnp\u001b[0m\u001b[0;34m.\u001b[0m\u001b[0marray\u001b[0m\u001b[0;34m(\u001b[0m\u001b[0muniques\u001b[0m\u001b[0;34m,\u001b[0m \u001b[0mdtype\u001b[0m\u001b[0;34m=\u001b[0m\u001b[0mvalues\u001b[0m\u001b[0;34m.\u001b[0m\u001b[0mdtype\u001b[0m\u001b[0;34m)\u001b[0m\u001b[0;34m\u001b[0m\u001b[0;34m\u001b[0m\u001b[0m\n",
            "\u001b[0;31mTypeError\u001b[0m: '<' not supported between instances of 'str' and 'float'",
            "\nDuring handling of the above exception, another exception occurred:\n",
            "\u001b[0;31mTypeError\u001b[0m                                 Traceback (most recent call last)",
            "\u001b[0;32m<ipython-input-66-86b9be7a527c>\u001b[0m in \u001b[0;36m<module>\u001b[0;34m()\u001b[0m\n\u001b[1;32m      1\u001b[0m \u001b[0;32mfor\u001b[0m \u001b[0mi\u001b[0m \u001b[0;32min\u001b[0m \u001b[0;34m[\u001b[0m\u001b[0;34m'Route1'\u001b[0m\u001b[0;34m,\u001b[0m     \u001b[0;34m'Route2'\u001b[0m\u001b[0;34m,\u001b[0m       \u001b[0;34m'Route3'\u001b[0m\u001b[0;34m,\u001b[0m       \u001b[0;34m'Route4'\u001b[0m\u001b[0;34m,\u001b[0m       \u001b[0;34m'Route5'\u001b[0m\u001b[0;34m,\u001b[0m\u001b[0;34m]\u001b[0m\u001b[0;34m:\u001b[0m\u001b[0;34m\u001b[0m\u001b[0;34m\u001b[0m\u001b[0m\n\u001b[0;32m----> 2\u001b[0;31m   \u001b[0mtd\u001b[0m\u001b[0;34m[\u001b[0m\u001b[0mi\u001b[0m\u001b[0;34m]\u001b[0m\u001b[0;34m=\u001b[0m\u001b[0mencode\u001b[0m\u001b[0;34m.\u001b[0m\u001b[0mfit_transform\u001b[0m\u001b[0;34m(\u001b[0m\u001b[0mtd\u001b[0m\u001b[0;34m[\u001b[0m\u001b[0mi\u001b[0m\u001b[0;34m]\u001b[0m\u001b[0;34m)\u001b[0m\u001b[0;34m\u001b[0m\u001b[0;34m\u001b[0m\u001b[0m\n\u001b[0m",
            "\u001b[0;32m/usr/local/lib/python3.7/dist-packages/sklearn/preprocessing/_label.py\u001b[0m in \u001b[0;36mfit_transform\u001b[0;34m(self, y)\u001b[0m\n\u001b[1;32m    250\u001b[0m         \"\"\"\n\u001b[1;32m    251\u001b[0m         \u001b[0my\u001b[0m \u001b[0;34m=\u001b[0m \u001b[0mcolumn_or_1d\u001b[0m\u001b[0;34m(\u001b[0m\u001b[0my\u001b[0m\u001b[0;34m,\u001b[0m \u001b[0mwarn\u001b[0m\u001b[0;34m=\u001b[0m\u001b[0;32mTrue\u001b[0m\u001b[0;34m)\u001b[0m\u001b[0;34m\u001b[0m\u001b[0;34m\u001b[0m\u001b[0m\n\u001b[0;32m--> 252\u001b[0;31m         \u001b[0mself\u001b[0m\u001b[0;34m.\u001b[0m\u001b[0mclasses_\u001b[0m\u001b[0;34m,\u001b[0m \u001b[0my\u001b[0m \u001b[0;34m=\u001b[0m \u001b[0m_encode\u001b[0m\u001b[0;34m(\u001b[0m\u001b[0my\u001b[0m\u001b[0;34m,\u001b[0m \u001b[0mencode\u001b[0m\u001b[0;34m=\u001b[0m\u001b[0;32mTrue\u001b[0m\u001b[0;34m)\u001b[0m\u001b[0;34m\u001b[0m\u001b[0;34m\u001b[0m\u001b[0m\n\u001b[0m\u001b[1;32m    253\u001b[0m         \u001b[0;32mreturn\u001b[0m \u001b[0my\u001b[0m\u001b[0;34m\u001b[0m\u001b[0;34m\u001b[0m\u001b[0m\n\u001b[1;32m    254\u001b[0m \u001b[0;34m\u001b[0m\u001b[0m\n",
            "\u001b[0;32m/usr/local/lib/python3.7/dist-packages/sklearn/preprocessing/_label.py\u001b[0m in \u001b[0;36m_encode\u001b[0;34m(values, uniques, encode, check_unknown)\u001b[0m\n\u001b[1;32m    112\u001b[0m             \u001b[0mres\u001b[0m \u001b[0;34m=\u001b[0m \u001b[0m_encode_python\u001b[0m\u001b[0;34m(\u001b[0m\u001b[0mvalues\u001b[0m\u001b[0;34m,\u001b[0m \u001b[0muniques\u001b[0m\u001b[0;34m,\u001b[0m \u001b[0mencode\u001b[0m\u001b[0;34m)\u001b[0m\u001b[0;34m\u001b[0m\u001b[0;34m\u001b[0m\u001b[0m\n\u001b[1;32m    113\u001b[0m         \u001b[0;32mexcept\u001b[0m \u001b[0mTypeError\u001b[0m\u001b[0;34m:\u001b[0m\u001b[0;34m\u001b[0m\u001b[0;34m\u001b[0m\u001b[0m\n\u001b[0;32m--> 114\u001b[0;31m             \u001b[0;32mraise\u001b[0m \u001b[0mTypeError\u001b[0m\u001b[0;34m(\u001b[0m\u001b[0;34m\"argument must be a string or number\"\u001b[0m\u001b[0;34m)\u001b[0m\u001b[0;34m\u001b[0m\u001b[0;34m\u001b[0m\u001b[0m\n\u001b[0m\u001b[1;32m    115\u001b[0m         \u001b[0;32mreturn\u001b[0m \u001b[0mres\u001b[0m\u001b[0;34m\u001b[0m\u001b[0;34m\u001b[0m\u001b[0m\n\u001b[1;32m    116\u001b[0m     \u001b[0;32melse\u001b[0m\u001b[0;34m:\u001b[0m\u001b[0;34m\u001b[0m\u001b[0;34m\u001b[0m\u001b[0m\n",
            "\u001b[0;31mTypeError\u001b[0m: argument must be a string or number"
          ]
        }
      ]
    },
    {
      "cell_type": "code",
      "metadata": {
        "id": "eo1w599Fc3U3"
      },
      "source": [
        "#Lets clean null values\r\n",
        "td.dropna(subset=['Route1',\t'Route2',\t'Route3',\t'Route4',\t'Route5'],inplace=True)"
      ],
      "execution_count": 67,
      "outputs": []
    },
    {
      "cell_type": "code",
      "metadata": {
        "id": "ONCrpbBcaQM5"
      },
      "source": [
        "# again execute to transform adding other categoricals with route\r\n",
        "\r\n",
        "for i in ['Route1',\t'Route2',\t'Route3',\t'Route4',\t'Route5', 'Source','Destination','Total_Stops','Additional_Info',]:\r\n",
        "  td[i]=encode.fit_transform(td[i])"
      ],
      "execution_count": 69,
      "outputs": []
    },
    {
      "cell_type": "code",
      "metadata": {
        "id": "gfHCHIkVYi-e"
      },
      "source": [
        ""
      ],
      "execution_count": 18,
      "outputs": []
    },
    {
      "cell_type": "code",
      "metadata": {
        "colab": {
          "base_uri": "https://localhost:8080/",
          "height": 147
        },
        "id": "HcyrOuBNYoQ5",
        "outputId": "a40c73a0-ee53-4f73-ab5b-fdb082e43e9b"
      },
      "source": [
        "td.head(1)"
      ],
      "execution_count": 70,
      "outputs": [
        {
          "output_type": "execute_result",
          "data": {
            "text/html": [
              "<div>\n",
              "<style scoped>\n",
              "    .dataframe tbody tr th:only-of-type {\n",
              "        vertical-align: middle;\n",
              "    }\n",
              "\n",
              "    .dataframe tbody tr th {\n",
              "        vertical-align: top;\n",
              "    }\n",
              "\n",
              "    .dataframe thead th {\n",
              "        text-align: right;\n",
              "    }\n",
              "</style>\n",
              "<table border=\"1\" class=\"dataframe\">\n",
              "  <thead>\n",
              "    <tr style=\"text-align: right;\">\n",
              "      <th></th>\n",
              "      <th>Date_of_Journey</th>\n",
              "      <th>Source</th>\n",
              "      <th>Destination</th>\n",
              "      <th>Total_Stops</th>\n",
              "      <th>Additional_Info</th>\n",
              "      <th>Price</th>\n",
              "      <th>journey_year</th>\n",
              "      <th>journey_month</th>\n",
              "      <th>journey_day</th>\n",
              "      <th>Dep_Time_hour</th>\n",
              "      <th>Dep_Time_minute</th>\n",
              "      <th>Arrival_Time_hour</th>\n",
              "      <th>Arrival_Time_minute</th>\n",
              "      <th>duration_hr</th>\n",
              "      <th>Route1</th>\n",
              "      <th>Route2</th>\n",
              "      <th>Route3</th>\n",
              "      <th>Route4</th>\n",
              "      <th>Route5</th>\n",
              "      <th>Cochin</th>\n",
              "      <th>Hyderabad</th>\n",
              "      <th>New Delhi</th>\n",
              "      <th>Air India</th>\n",
              "      <th>GoAir</th>\n",
              "      <th>IndiGo</th>\n",
              "      <th>Jet Airways</th>\n",
              "      <th>Jet Airways Business</th>\n",
              "      <th>Multiple carriers</th>\n",
              "      <th>Multiple carriers Premium economy</th>\n",
              "      <th>SpiceJet</th>\n",
              "      <th>Vistara</th>\n",
              "      <th>Vistara Premium economy</th>\n",
              "    </tr>\n",
              "  </thead>\n",
              "  <tbody>\n",
              "    <tr>\n",
              "      <th>402</th>\n",
              "      <td>2019-06-15</td>\n",
              "      <td>1</td>\n",
              "      <td>1</td>\n",
              "      <td>0</td>\n",
              "      <td>1</td>\n",
              "      <td>10493</td>\n",
              "      <td>2019</td>\n",
              "      <td>6</td>\n",
              "      <td>15</td>\n",
              "      <td>5</td>\n",
              "      <td>15</td>\n",
              "      <td>7</td>\n",
              "      <td>40</td>\n",
              "      <td>26</td>\n",
              "      <td>3</td>\n",
              "      <td>9</td>\n",
              "      <td>8</td>\n",
              "      <td>3</td>\n",
              "      <td>1</td>\n",
              "      <td>1</td>\n",
              "      <td>0</td>\n",
              "      <td>0</td>\n",
              "      <td>1</td>\n",
              "      <td>0</td>\n",
              "      <td>0</td>\n",
              "      <td>0</td>\n",
              "      <td>0</td>\n",
              "      <td>0</td>\n",
              "      <td>0</td>\n",
              "      <td>0</td>\n",
              "      <td>0</td>\n",
              "      <td>0</td>\n",
              "    </tr>\n",
              "  </tbody>\n",
              "</table>\n",
              "</div>"
            ],
            "text/plain": [
              "    Date_of_Journey  Source  ...  Vistara  Vistara Premium economy\n",
              "402      2019-06-15       1  ...        0                        0\n",
              "\n",
              "[1 rows x 32 columns]"
            ]
          },
          "metadata": {
            "tags": []
          },
          "execution_count": 70
        }
      ]
    },
    {
      "cell_type": "code",
      "metadata": {
        "id": "EV4mIskmY_Cj"
      },
      "source": [
        "# changing data type of column to date\r\n",
        "td['Date_of_Journey']=pd.to_datetime(td['Date_of_Journey'])\r\n",
        "#date of journey is date type, now changing to date and time saperately in new columns\r\n",
        "td['journey_year']=td['Date_of_Journey'].dt.year\r\n",
        "td['journey_month']=td['Date_of_Journey'].dt.month\r\n",
        "td['journey_day']=td['Date_of_Journey'].dt.day"
      ],
      "execution_count": 72,
      "outputs": []
    },
    {
      "cell_type": "code",
      "metadata": {
        "id": "gZsYr0c7Z01v"
      },
      "source": [
        "td.drop('Date_of_Journey',axis=1,inplace=True)\r\n"
      ],
      "execution_count": 73,
      "outputs": []
    },
    {
      "cell_type": "code",
      "metadata": {
        "colab": {
          "base_uri": "https://localhost:8080/",
          "height": 177
        },
        "id": "PDYHcXOjZ22C",
        "outputId": "586d47f3-0571-4651-eb22-6ed2926ef8c0"
      },
      "source": [
        "td.head(2)"
      ],
      "execution_count": 74,
      "outputs": [
        {
          "output_type": "execute_result",
          "data": {
            "text/html": [
              "<div>\n",
              "<style scoped>\n",
              "    .dataframe tbody tr th:only-of-type {\n",
              "        vertical-align: middle;\n",
              "    }\n",
              "\n",
              "    .dataframe tbody tr th {\n",
              "        vertical-align: top;\n",
              "    }\n",
              "\n",
              "    .dataframe thead th {\n",
              "        text-align: right;\n",
              "    }\n",
              "</style>\n",
              "<table border=\"1\" class=\"dataframe\">\n",
              "  <thead>\n",
              "    <tr style=\"text-align: right;\">\n",
              "      <th></th>\n",
              "      <th>Source</th>\n",
              "      <th>Destination</th>\n",
              "      <th>Total_Stops</th>\n",
              "      <th>Additional_Info</th>\n",
              "      <th>Price</th>\n",
              "      <th>journey_year</th>\n",
              "      <th>journey_month</th>\n",
              "      <th>journey_day</th>\n",
              "      <th>Dep_Time_hour</th>\n",
              "      <th>Dep_Time_minute</th>\n",
              "      <th>Arrival_Time_hour</th>\n",
              "      <th>Arrival_Time_minute</th>\n",
              "      <th>duration_hr</th>\n",
              "      <th>Route1</th>\n",
              "      <th>Route2</th>\n",
              "      <th>Route3</th>\n",
              "      <th>Route4</th>\n",
              "      <th>Route5</th>\n",
              "      <th>Cochin</th>\n",
              "      <th>Hyderabad</th>\n",
              "      <th>New Delhi</th>\n",
              "      <th>Air India</th>\n",
              "      <th>GoAir</th>\n",
              "      <th>IndiGo</th>\n",
              "      <th>Jet Airways</th>\n",
              "      <th>Jet Airways Business</th>\n",
              "      <th>Multiple carriers</th>\n",
              "      <th>Multiple carriers Premium economy</th>\n",
              "      <th>SpiceJet</th>\n",
              "      <th>Vistara</th>\n",
              "      <th>Vistara Premium economy</th>\n",
              "    </tr>\n",
              "  </thead>\n",
              "  <tbody>\n",
              "    <tr>\n",
              "      <th>402</th>\n",
              "      <td>1</td>\n",
              "      <td>1</td>\n",
              "      <td>0</td>\n",
              "      <td>1</td>\n",
              "      <td>10493</td>\n",
              "      <td>2019</td>\n",
              "      <td>6</td>\n",
              "      <td>15</td>\n",
              "      <td>5</td>\n",
              "      <td>15</td>\n",
              "      <td>7</td>\n",
              "      <td>40</td>\n",
              "      <td>26</td>\n",
              "      <td>3</td>\n",
              "      <td>9</td>\n",
              "      <td>8</td>\n",
              "      <td>3</td>\n",
              "      <td>1</td>\n",
              "      <td>1</td>\n",
              "      <td>0</td>\n",
              "      <td>0</td>\n",
              "      <td>1</td>\n",
              "      <td>0</td>\n",
              "      <td>0</td>\n",
              "      <td>0</td>\n",
              "      <td>0</td>\n",
              "      <td>0</td>\n",
              "      <td>0</td>\n",
              "      <td>0</td>\n",
              "      <td>0</td>\n",
              "      <td>0</td>\n",
              "    </tr>\n",
              "    <tr>\n",
              "      <th>919</th>\n",
              "      <td>2</td>\n",
              "      <td>0</td>\n",
              "      <td>0</td>\n",
              "      <td>1</td>\n",
              "      <td>10991</td>\n",
              "      <td>2019</td>\n",
              "      <td>12</td>\n",
              "      <td>5</td>\n",
              "      <td>12</td>\n",
              "      <td>0</td>\n",
              "      <td>23</td>\n",
              "      <td>15</td>\n",
              "      <td>35</td>\n",
              "      <td>2</td>\n",
              "      <td>0</td>\n",
              "      <td>6</td>\n",
              "      <td>4</td>\n",
              "      <td>0</td>\n",
              "      <td>0</td>\n",
              "      <td>0</td>\n",
              "      <td>0</td>\n",
              "      <td>1</td>\n",
              "      <td>0</td>\n",
              "      <td>0</td>\n",
              "      <td>0</td>\n",
              "      <td>0</td>\n",
              "      <td>0</td>\n",
              "      <td>0</td>\n",
              "      <td>0</td>\n",
              "      <td>0</td>\n",
              "      <td>0</td>\n",
              "    </tr>\n",
              "  </tbody>\n",
              "</table>\n",
              "</div>"
            ],
            "text/plain": [
              "     Source  Destination  ...  Vistara  Vistara Premium economy\n",
              "402       1            1  ...        0                        0\n",
              "919       2            0  ...        0                        0\n",
              "\n",
              "[2 rows x 31 columns]"
            ]
          },
          "metadata": {
            "tags": []
          },
          "execution_count": 74
        }
      ]
    },
    {
      "cell_type": "code",
      "metadata": {
        "id": "HwAFe4qSZ8Fu"
      },
      "source": [
        "#Keeping out independent and dependent veriable\r\n",
        "IndependentFeature = td['Price']\r\n",
        "DependentFeatures = td.drop('Price',axis=1) "
      ],
      "execution_count": 75,
      "outputs": []
    },
    {
      "cell_type": "code",
      "metadata": {
        "colab": {
          "base_uri": "https://localhost:8080/"
        },
        "id": "S1iDiaX0aFf-",
        "outputId": "3daa5128-17ab-42e1-db2e-463890d96203"
      },
      "source": [
        "# lets gain info first using scikit learn\r\n",
        "from sklearn.feature_selection import mutual_info_classif\r\n",
        "x=mutual_info_classif(DependentFeatures,IndependentFeature)\r\n",
        "x"
      ],
      "execution_count": 79,
      "outputs": [
        {
          "output_type": "execute_result",
          "data": {
            "text/plain": [
              "array([2.58702637, 2.20759599, 0.        , 2.56141972, 2.42243912,\n",
              "       1.01110715, 0.94332558, 1.37893427, 2.2112085 , 1.74921554,\n",
              "       1.50293349, 1.34345783, 0.8952994 , 1.81311922, 2.66271615,\n",
              "       1.08425359, 2.55726446, 2.6078597 , 0.        , 0.17405032,\n",
              "       2.59026628, 0.        , 0.        , 0.        , 0.        ,\n",
              "       0.78180703, 0.        , 0.        , 0.        , 0.11047495])"
            ]
          },
          "metadata": {
            "tags": []
          },
          "execution_count": 79
        }
      ]
    },
    {
      "cell_type": "code",
      "metadata": {
        "id": "A9PE1UBKat6r"
      },
      "source": [
        ""
      ],
      "execution_count": 29,
      "outputs": []
    },
    {
      "cell_type": "code",
      "metadata": {
        "colab": {
          "base_uri": "https://localhost:8080/",
          "height": 935
        },
        "id": "X35RYfNabzsG",
        "outputId": "8f130271-3f9e-4bac-f7e9-a380f8a41f30"
      },
      "source": [
        "#these were the importance with respect to the target variable\r\n",
        "#Lets creat a new dataframe with respect to the priority as upper values\r\n",
        "\r\n",
        "imp = pd.DataFrame(x,index=DependentFeatures.columns)\r\n",
        "imp"
      ],
      "execution_count": 85,
      "outputs": [
        {
          "output_type": "execute_result",
          "data": {
            "text/html": [
              "<div>\n",
              "<style scoped>\n",
              "    .dataframe tbody tr th:only-of-type {\n",
              "        vertical-align: middle;\n",
              "    }\n",
              "\n",
              "    .dataframe tbody tr th {\n",
              "        vertical-align: top;\n",
              "    }\n",
              "\n",
              "    .dataframe thead th {\n",
              "        text-align: right;\n",
              "    }\n",
              "</style>\n",
              "<table border=\"1\" class=\"dataframe\">\n",
              "  <thead>\n",
              "    <tr style=\"text-align: right;\">\n",
              "      <th></th>\n",
              "      <th>0</th>\n",
              "    </tr>\n",
              "  </thead>\n",
              "  <tbody>\n",
              "    <tr>\n",
              "      <th>Source</th>\n",
              "      <td>2.587026</td>\n",
              "    </tr>\n",
              "    <tr>\n",
              "      <th>Destination</th>\n",
              "      <td>2.207596</td>\n",
              "    </tr>\n",
              "    <tr>\n",
              "      <th>Total_Stops</th>\n",
              "      <td>0.000000</td>\n",
              "    </tr>\n",
              "    <tr>\n",
              "      <th>Additional_Info</th>\n",
              "      <td>2.561420</td>\n",
              "    </tr>\n",
              "    <tr>\n",
              "      <th>journey_year</th>\n",
              "      <td>2.422439</td>\n",
              "    </tr>\n",
              "    <tr>\n",
              "      <th>journey_month</th>\n",
              "      <td>1.011107</td>\n",
              "    </tr>\n",
              "    <tr>\n",
              "      <th>journey_day</th>\n",
              "      <td>0.943326</td>\n",
              "    </tr>\n",
              "    <tr>\n",
              "      <th>Dep_Time_hour</th>\n",
              "      <td>1.378934</td>\n",
              "    </tr>\n",
              "    <tr>\n",
              "      <th>Dep_Time_minute</th>\n",
              "      <td>2.211209</td>\n",
              "    </tr>\n",
              "    <tr>\n",
              "      <th>Arrival_Time_hour</th>\n",
              "      <td>1.749216</td>\n",
              "    </tr>\n",
              "    <tr>\n",
              "      <th>Arrival_Time_minute</th>\n",
              "      <td>1.502933</td>\n",
              "    </tr>\n",
              "    <tr>\n",
              "      <th>duration_hr</th>\n",
              "      <td>1.343458</td>\n",
              "    </tr>\n",
              "    <tr>\n",
              "      <th>Route1</th>\n",
              "      <td>0.895299</td>\n",
              "    </tr>\n",
              "    <tr>\n",
              "      <th>Route2</th>\n",
              "      <td>1.813119</td>\n",
              "    </tr>\n",
              "    <tr>\n",
              "      <th>Route3</th>\n",
              "      <td>2.662716</td>\n",
              "    </tr>\n",
              "    <tr>\n",
              "      <th>Route4</th>\n",
              "      <td>1.084254</td>\n",
              "    </tr>\n",
              "    <tr>\n",
              "      <th>Route5</th>\n",
              "      <td>2.557264</td>\n",
              "    </tr>\n",
              "    <tr>\n",
              "      <th>Cochin</th>\n",
              "      <td>2.607860</td>\n",
              "    </tr>\n",
              "    <tr>\n",
              "      <th>Hyderabad</th>\n",
              "      <td>0.000000</td>\n",
              "    </tr>\n",
              "    <tr>\n",
              "      <th>New Delhi</th>\n",
              "      <td>0.174050</td>\n",
              "    </tr>\n",
              "    <tr>\n",
              "      <th>Air India</th>\n",
              "      <td>2.590266</td>\n",
              "    </tr>\n",
              "    <tr>\n",
              "      <th>GoAir</th>\n",
              "      <td>0.000000</td>\n",
              "    </tr>\n",
              "    <tr>\n",
              "      <th>IndiGo</th>\n",
              "      <td>0.000000</td>\n",
              "    </tr>\n",
              "    <tr>\n",
              "      <th>Jet Airways</th>\n",
              "      <td>0.000000</td>\n",
              "    </tr>\n",
              "    <tr>\n",
              "      <th>Jet Airways Business</th>\n",
              "      <td>0.000000</td>\n",
              "    </tr>\n",
              "    <tr>\n",
              "      <th>Multiple carriers</th>\n",
              "      <td>0.781807</td>\n",
              "    </tr>\n",
              "    <tr>\n",
              "      <th>Multiple carriers Premium economy</th>\n",
              "      <td>0.000000</td>\n",
              "    </tr>\n",
              "    <tr>\n",
              "      <th>SpiceJet</th>\n",
              "      <td>0.000000</td>\n",
              "    </tr>\n",
              "    <tr>\n",
              "      <th>Vistara</th>\n",
              "      <td>0.000000</td>\n",
              "    </tr>\n",
              "    <tr>\n",
              "      <th>Vistara Premium economy</th>\n",
              "      <td>0.110475</td>\n",
              "    </tr>\n",
              "  </tbody>\n",
              "</table>\n",
              "</div>"
            ],
            "text/plain": [
              "                                          0\n",
              "Source                             2.587026\n",
              "Destination                        2.207596\n",
              "Total_Stops                        0.000000\n",
              "Additional_Info                    2.561420\n",
              "journey_year                       2.422439\n",
              "journey_month                      1.011107\n",
              "journey_day                        0.943326\n",
              "Dep_Time_hour                      1.378934\n",
              "Dep_Time_minute                    2.211209\n",
              "Arrival_Time_hour                  1.749216\n",
              "Arrival_Time_minute                1.502933\n",
              "duration_hr                        1.343458\n",
              "Route1                             0.895299\n",
              "Route2                             1.813119\n",
              "Route3                             2.662716\n",
              "Route4                             1.084254\n",
              "Route5                             2.557264\n",
              "Cochin                             2.607860\n",
              "Hyderabad                          0.000000\n",
              "New Delhi                          0.174050\n",
              "Air India                          2.590266\n",
              "GoAir                              0.000000\n",
              "IndiGo                             0.000000\n",
              "Jet Airways                        0.000000\n",
              "Jet Airways Business               0.000000\n",
              "Multiple carriers                  0.781807\n",
              "Multiple carriers Premium economy  0.000000\n",
              "SpiceJet                           0.000000\n",
              "Vistara                            0.000000\n",
              "Vistara Premium economy            0.110475"
            ]
          },
          "metadata": {
            "tags": []
          },
          "execution_count": 85
        }
      ]
    },
    {
      "cell_type": "code",
      "metadata": {
        "colab": {
          "base_uri": "https://localhost:8080/",
          "height": 935
        },
        "id": "M3UfnwyJfo1f",
        "outputId": "e89d04ce-6fac-491f-c99c-bf47c89e055a"
      },
      "source": [
        "#lets rename the column and sort on Importance\r\n",
        "imp.columns=['important_cols']\r\n",
        "imp.sort_values(by='important_cols',ascending=False)"
      ],
      "execution_count": 87,
      "outputs": [
        {
          "output_type": "execute_result",
          "data": {
            "text/html": [
              "<div>\n",
              "<style scoped>\n",
              "    .dataframe tbody tr th:only-of-type {\n",
              "        vertical-align: middle;\n",
              "    }\n",
              "\n",
              "    .dataframe tbody tr th {\n",
              "        vertical-align: top;\n",
              "    }\n",
              "\n",
              "    .dataframe thead th {\n",
              "        text-align: right;\n",
              "    }\n",
              "</style>\n",
              "<table border=\"1\" class=\"dataframe\">\n",
              "  <thead>\n",
              "    <tr style=\"text-align: right;\">\n",
              "      <th></th>\n",
              "      <th>important_cols</th>\n",
              "    </tr>\n",
              "  </thead>\n",
              "  <tbody>\n",
              "    <tr>\n",
              "      <th>Route3</th>\n",
              "      <td>2.662716</td>\n",
              "    </tr>\n",
              "    <tr>\n",
              "      <th>Cochin</th>\n",
              "      <td>2.607860</td>\n",
              "    </tr>\n",
              "    <tr>\n",
              "      <th>Air India</th>\n",
              "      <td>2.590266</td>\n",
              "    </tr>\n",
              "    <tr>\n",
              "      <th>Source</th>\n",
              "      <td>2.587026</td>\n",
              "    </tr>\n",
              "    <tr>\n",
              "      <th>Additional_Info</th>\n",
              "      <td>2.561420</td>\n",
              "    </tr>\n",
              "    <tr>\n",
              "      <th>Route5</th>\n",
              "      <td>2.557264</td>\n",
              "    </tr>\n",
              "    <tr>\n",
              "      <th>journey_year</th>\n",
              "      <td>2.422439</td>\n",
              "    </tr>\n",
              "    <tr>\n",
              "      <th>Dep_Time_minute</th>\n",
              "      <td>2.211209</td>\n",
              "    </tr>\n",
              "    <tr>\n",
              "      <th>Destination</th>\n",
              "      <td>2.207596</td>\n",
              "    </tr>\n",
              "    <tr>\n",
              "      <th>Route2</th>\n",
              "      <td>1.813119</td>\n",
              "    </tr>\n",
              "    <tr>\n",
              "      <th>Arrival_Time_hour</th>\n",
              "      <td>1.749216</td>\n",
              "    </tr>\n",
              "    <tr>\n",
              "      <th>Arrival_Time_minute</th>\n",
              "      <td>1.502933</td>\n",
              "    </tr>\n",
              "    <tr>\n",
              "      <th>Dep_Time_hour</th>\n",
              "      <td>1.378934</td>\n",
              "    </tr>\n",
              "    <tr>\n",
              "      <th>duration_hr</th>\n",
              "      <td>1.343458</td>\n",
              "    </tr>\n",
              "    <tr>\n",
              "      <th>Route4</th>\n",
              "      <td>1.084254</td>\n",
              "    </tr>\n",
              "    <tr>\n",
              "      <th>journey_month</th>\n",
              "      <td>1.011107</td>\n",
              "    </tr>\n",
              "    <tr>\n",
              "      <th>journey_day</th>\n",
              "      <td>0.943326</td>\n",
              "    </tr>\n",
              "    <tr>\n",
              "      <th>Route1</th>\n",
              "      <td>0.895299</td>\n",
              "    </tr>\n",
              "    <tr>\n",
              "      <th>Multiple carriers</th>\n",
              "      <td>0.781807</td>\n",
              "    </tr>\n",
              "    <tr>\n",
              "      <th>New Delhi</th>\n",
              "      <td>0.174050</td>\n",
              "    </tr>\n",
              "    <tr>\n",
              "      <th>Vistara Premium economy</th>\n",
              "      <td>0.110475</td>\n",
              "    </tr>\n",
              "    <tr>\n",
              "      <th>Hyderabad</th>\n",
              "      <td>0.000000</td>\n",
              "    </tr>\n",
              "    <tr>\n",
              "      <th>Total_Stops</th>\n",
              "      <td>0.000000</td>\n",
              "    </tr>\n",
              "    <tr>\n",
              "      <th>GoAir</th>\n",
              "      <td>0.000000</td>\n",
              "    </tr>\n",
              "    <tr>\n",
              "      <th>IndiGo</th>\n",
              "      <td>0.000000</td>\n",
              "    </tr>\n",
              "    <tr>\n",
              "      <th>Jet Airways</th>\n",
              "      <td>0.000000</td>\n",
              "    </tr>\n",
              "    <tr>\n",
              "      <th>Jet Airways Business</th>\n",
              "      <td>0.000000</td>\n",
              "    </tr>\n",
              "    <tr>\n",
              "      <th>Multiple carriers Premium economy</th>\n",
              "      <td>0.000000</td>\n",
              "    </tr>\n",
              "    <tr>\n",
              "      <th>SpiceJet</th>\n",
              "      <td>0.000000</td>\n",
              "    </tr>\n",
              "    <tr>\n",
              "      <th>Vistara</th>\n",
              "      <td>0.000000</td>\n",
              "    </tr>\n",
              "  </tbody>\n",
              "</table>\n",
              "</div>"
            ],
            "text/plain": [
              "                                   important_cols\n",
              "Route3                                   2.662716\n",
              "Cochin                                   2.607860\n",
              "Air India                                2.590266\n",
              "Source                                   2.587026\n",
              "Additional_Info                          2.561420\n",
              "Route5                                   2.557264\n",
              "journey_year                             2.422439\n",
              "Dep_Time_minute                          2.211209\n",
              "Destination                              2.207596\n",
              "Route2                                   1.813119\n",
              "Arrival_Time_hour                        1.749216\n",
              "Arrival_Time_minute                      1.502933\n",
              "Dep_Time_hour                            1.378934\n",
              "duration_hr                              1.343458\n",
              "Route4                                   1.084254\n",
              "journey_month                            1.011107\n",
              "journey_day                              0.943326\n",
              "Route1                                   0.895299\n",
              "Multiple carriers                        0.781807\n",
              "New Delhi                                0.174050\n",
              "Vistara Premium economy                  0.110475\n",
              "Hyderabad                                0.000000\n",
              "Total_Stops                              0.000000\n",
              "GoAir                                    0.000000\n",
              "IndiGo                                   0.000000\n",
              "Jet Airways                              0.000000\n",
              "Jet Airways Business                     0.000000\n",
              "Multiple carriers Premium economy        0.000000\n",
              "SpiceJet                                 0.000000\n",
              "Vistara                                  0.000000"
            ]
          },
          "metadata": {
            "tags": []
          },
          "execution_count": 87
        }
      ]
    },
    {
      "cell_type": "code",
      "metadata": {
        "id": "NtCCr5yvit1J"
      },
      "source": [
        "# So we get all the important columns on top and less importants are in below, we also can skil un important columns if we want"
      ],
      "execution_count": 89,
      "outputs": []
    },
    {
      "cell_type": "code",
      "metadata": {
        "id": "GMTgxiwwjez8"
      },
      "source": [
        "from google.colab import files\r\n",
        "files.download('td.csv')"
      ],
      "execution_count": null,
      "outputs": []
    }
  ]
}